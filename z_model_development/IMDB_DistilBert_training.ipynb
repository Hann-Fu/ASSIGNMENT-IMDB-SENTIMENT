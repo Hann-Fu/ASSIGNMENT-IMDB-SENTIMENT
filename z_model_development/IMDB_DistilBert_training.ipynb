{
 "cells": [
  {
   "cell_type": "markdown",
   "metadata": {},
   "source": [
    "## **Abstraction**\n",
    "\n",
    "In this notebook, I use **DistillBERT** with a **MLP classifier header** to train a model for **sentiment classification**.\n",
    "According to the **baseline model's** (**TF-IDF + LR**) performance and **error analysis**, it can't extract the **features across words**, and doesn't know **which adjective describes which subject**.\n",
    "**Transformers** can handle these **contextual relationships** much better than TF-IDF or other similar approaches based on **vocabulary statistical analysis**.\n",
    "\n",
    "### **Environment**\n",
    "\n",
    "I trained the model on my own PC (**3080Ti**), each **epoch** takes approximately **7 mins**.\n",
    "\n",
    "\n",
    "### **Hyperparameters**\n",
    "\n",
    "* **token\\_sequence\\_length**: 512\n",
    "* **learning\\_rate**: 5e-05\n",
    "* **train\\_batch\\_size**: 16\n",
    "* **eval\\_batch\\_size**: 16\n",
    "* **seed**: 42\n",
    "* **optimizer**: Adam with **betas=(0.9, 0.999)** and **epsilon=1e-08**\n",
    "* **lr\\_scheduler\\_type**: linear\n",
    "* **num\\_epochs**: 2\n",
    "\n",
    "\n",
    "#### **token\\_sequence\\_length**\n",
    "\n",
    "Previously set to **256**, but some errors occurred due to **truncation**.\n",
    "Visualization showed many reviews are longer than 256 words, so I increased it to **512**.\n",
    "\n",
    "---\n",
    "\n",
    "### **Result**\n",
    "\n",
    "| **Metric**   | **BERT+MLP** | **TF-IDF+LR**      |\n",
    "| ------------ | ------------ | ------------------ |\n",
    "| **Accuracy** | **94%**      | 89.54% (**+5%**)   |\n",
    "| **F1-Score** | **94%**      | 89.66% (**+5%**)   |\n",
    "| **ROC AUC**  | **0.9840**   | 0.9605 (**+0.02**) |\n"
   ]
  },
  {
   "cell_type": "code",
   "execution_count": 14,
   "metadata": {},
   "outputs": [
    {
     "name": "stdout",
     "output_type": "stream",
     "text": [
      "Using cuda\n"
     ]
    }
   ],
   "source": [
    "# ============================================================\n",
    "# 0. Setup – install & import\n",
    "# ============================================================\n",
    "\n",
    "\n",
    "import os, time, random, datetime as dt\n",
    "import pandas as pd\n",
    "import torch\n",
    "from torch.utils.data import Dataset, DataLoader\n",
    "from transformers import (DistilBertTokenizerFast, \n",
    "                          DistilBertForSequenceClassification,\n",
    "                          get_linear_schedule_with_warmup)\n",
    "from torch.optim import AdamW\n",
    "from sklearn.metrics import accuracy_score, precision_recall_fscore_support\n",
    "from tqdm.auto import tqdm\n",
    "from bs4 import BeautifulSoup\n",
    "import re\n",
    "\n",
    "SEED = 42\n",
    "random.seed(SEED)\n",
    "torch.manual_seed(SEED)\n",
    "torch.cuda.manual_seed_all(SEED)\n",
    "DEVICE = torch.device(\"cuda\" if torch.cuda.is_available() else \"cpu\")\n",
    "print(\"Using\", DEVICE)"
   ]
  },
  {
   "cell_type": "code",
   "execution_count": 2,
   "metadata": {},
   "outputs": [],
   "source": [
    "def preprocessing_pipeline_bert(review: str):\n",
    "    \"\"\"\n",
    "    Clean and preprocess a review string using the full pipeline.\n",
    "\n",
    "    Args:\n",
    "        review (str): The raw review text.\n",
    "    Returns:\n",
    "        str: The cleaned and preprocessed review text.\n",
    "    \"\"\"\n",
    "\n",
    "    # 1. strip HTML\n",
    "    review = BeautifulSoup(review, \"html.parser\").get_text()\n",
    "\n",
    "    # 2. strip URLs\n",
    "    review = re.sub(r'http\\S+|www\\.\\S+', '', review, flags=re.IGNORECASE)\n",
    "\n",
    "    return review"
   ]
  },
  {
   "cell_type": "code",
   "execution_count": 3,
   "metadata": {},
   "outputs": [
    {
     "name": "stdout",
     "output_type": "stream",
     "text": [
      "Train 40000, Val 5000, Test 5000\n"
     ]
    }
   ],
   "source": [
    "# ============================================================\n",
    "# 1. Load & prep the IMDB data\n",
    "# ============================================================\n",
    "df = pd.read_csv(\"IMDB Dataset.csv\")                       # columns: 'review', 'sentiment'\n",
    "# Preprocess\n",
    "df[\"review\"] = df[\"review\"].apply(lambda x: preprocessing_pipeline_bert(x))\n",
    "\n",
    "df[\"label\"] = df.sentiment.map({\"positive\":1, \"negative\":0})\n",
    "df = df.sample(frac=1, random_state=SEED).reset_index(drop=True)  # shuffle \n",
    "\n",
    "\n",
    "train_split, val_split, test_split = 0.8, 0.1, 0.1\n",
    "\n",
    "n = len(df)\n",
    "\n",
    "train_df   = df[:int(n*train_split)]\n",
    "val_df     = df[int(n*train_split):int(n*(train_split+val_split))]\n",
    "test_df    = df[int(n*(train_split+val_split)):]  \n",
    "\n",
    "print(f\"Train {len(train_df)}, Val {len(val_df)}, Test {len(test_df)}\")\n",
    "\n",
    "tokenizer = DistilBertTokenizerFast.from_pretrained(\"distilbert-base-uncased\")\n",
    "\n",
    "# According to the previous observation of the dataset's word count, 256 is a good choice to start, mean is 120,\n",
    "# However, after I tried to train the model with 256, the model's performance on long reviews is bad, the overall accuracy is ~0.92\n",
    "# So I tried to set it to 512, the overall accuracy increased to ~0.94\n",
    "MAX_LEN = 512   \n",
    "\n",
    "class IMDbDS(Dataset):\n",
    "    def __init__(self, df, tokenizer):\n",
    "        self.texts = list(df.review)\n",
    "        self.labels = list(df.label)\n",
    "        self.encs = tokenizer(self.texts,\n",
    "                              truncation=True, padding='max_length',\n",
    "                              max_length=MAX_LEN)\n",
    "    def __len__(self): return len(self.labels)\n",
    "    def __getitem__(self, idx):\n",
    "        item = {k: torch.tensor(v[idx]) for k,v in self.encs.items()}\n",
    "        item[\"labels\"] = torch.tensor(self.labels[idx])\n",
    "        return item\n",
    "\n",
    "train_ds = IMDbDS(train_df, tokenizer)\n",
    "val_ds   = IMDbDS(val_df, tokenizer)\n",
    "test_ds  = IMDbDS(test_df, tokenizer)\n"
   ]
  },
  {
   "cell_type": "code",
   "execution_count": 4,
   "metadata": {},
   "outputs": [],
   "source": [
    "# Hyperparameter 1: batch size\n",
    "BATCH_SIZE = 16\n",
    "train_dl = DataLoader(train_ds, batch_size=BATCH_SIZE, shuffle=True)\n",
    "val_dl   = DataLoader(val_ds,   batch_size=BATCH_SIZE)\n",
    "test_dl  = DataLoader(test_ds,  batch_size=BATCH_SIZE)"
   ]
  },
  {
   "cell_type": "code",
   "execution_count": 5,
   "metadata": {},
   "outputs": [
    {
     "name": "stderr",
     "output_type": "stream",
     "text": [
      "Some weights of DistilBertForSequenceClassification were not initialized from the model checkpoint at distilbert-base-uncased and are newly initialized: ['classifier.bias', 'classifier.weight', 'pre_classifier.bias', 'pre_classifier.weight']\n",
      "You should probably TRAIN this model on a down-stream task to be able to use it for predictions and inference.\n",
      "                                                   \r"
     ]
    },
    {
     "name": "stdout",
     "output_type": "stream",
     "text": [
      "Epoch 1: train loss 0.241, acc 0.9055 | val loss 0.199, acc 0.9260\n"
     ]
    },
    {
     "name": "stderr",
     "output_type": "stream",
     "text": [
      "                                                   "
     ]
    },
    {
     "name": "stdout",
     "output_type": "stream",
     "text": [
      "Epoch 2: train loss 0.135, acc 0.9586 | val loss 0.218, acc 0.9362\n"
     ]
    },
    {
     "name": "stderr",
     "output_type": "stream",
     "text": [
      "\r"
     ]
    }
   ],
   "source": [
    "# ============================================================\n",
    "# 2. Build model\n",
    "# ============================================================\n",
    "model = DistilBertForSequenceClassification.from_pretrained(\n",
    "            \"distilbert-base-uncased\", num_labels=2)\n",
    "model.to(DEVICE)\n",
    "\n",
    "# ============================================================\n",
    "# 3. Train\n",
    "# ============================================================\n",
    "# With a initial 3 epochs, I found that 3 leads to overfitting, so I set it to 2\n",
    "EPOCHS = 2\n",
    "optimizer = AdamW(model.parameters(), lr=2e-5)\n",
    "total_steps = len(train_dl) * EPOCHS\n",
    "scheduler = get_linear_schedule_with_warmup(\n",
    "                optimizer, num_warmup_steps=0, num_training_steps=total_steps)\n",
    "\n",
    "def run_epoch(loader, train=True):\n",
    "    model.train() if train else model.eval()\n",
    "    loss_sum, preds, labels = 0, [], []\n",
    "    loop = tqdm(loader, leave=False)\n",
    "    with torch.set_grad_enabled(train):\n",
    "        for batch in loop:\n",
    "            batch = {k:v.to(DEVICE) for k,v in batch.items()}\n",
    "            outputs = model(**batch)\n",
    "            loss = outputs.loss\n",
    "            logits = outputs.logits.detach().cpu()\n",
    "            loss_sum += loss.item()*len(batch[\"labels\"])\n",
    "            preds += logits.argmax(1).tolist()\n",
    "            labels += batch[\"labels\"].cpu().tolist()\n",
    "            if train:\n",
    "                loss.backward()\n",
    "                torch.nn.utils.clip_grad_norm_(model.parameters(), 1.0)\n",
    "                optimizer.step(); scheduler.step(); optimizer.zero_grad()\n",
    "    acc = accuracy_score(labels, preds)\n",
    "    return loss_sum/len(loader.dataset), acc, labels, preds\n",
    "\n",
    "for epoch in range(1, EPOCHS+1):\n",
    "    tr_loss, tr_acc, _, _ = run_epoch(train_dl, train=True)\n",
    "    vl_loss, vl_acc, _, _ = run_epoch(val_dl,   train=False)\n",
    "    print(f\"Epoch {epoch}: \"\n",
    "          f\"train loss {tr_loss:.3f}, acc {tr_acc:.4f} | \"\n",
    "          f\"val loss {vl_loss:.3f}, acc {vl_acc:.4f}\")"
   ]
  },
  {
   "cell_type": "code",
   "execution_count": 9,
   "metadata": {},
   "outputs": [
    {
     "name": "stderr",
     "output_type": "stream",
     "text": [
      "                                                 \r"
     ]
    },
    {
     "name": "stdout",
     "output_type": "stream",
     "text": [
      "Accuracy: 0.939\n",
      "Precision: 0.9392857142857143\n",
      "Recall: 0.9396585946804288\n",
      "F1-Score: 0.9394721174836277\n",
      "\n",
      "Classification Report:\n",
      "               precision    recall  f1-score   support\n",
      "\n",
      "    Negative       0.94      0.94      0.94      2481\n",
      "    Positive       0.94      0.94      0.94      2519\n",
      "\n",
      "    accuracy                           0.94      5000\n",
      "   macro avg       0.94      0.94      0.94      5000\n",
      "weighted avg       0.94      0.94      0.94      5000\n",
      "\n"
     ]
    },
    {
     "data": {
      "image/png": "[encoded data removed]",
      "text/plain": [
       "<Figure size 1500x500 with 3 Axes>"
      ]
     },
     "metadata": {},
     "output_type": "display_data"
    },
    {
     "name": "stdout",
     "output_type": "stream",
     "text": [
      "\n",
      "AUC-ROC Score: 0.9840\n"
     ]
    }
   ],
   "source": [
    "# ============================================================\n",
    "# Evaluation: Accuracy, precision, recall, f1-score, confusion matrix and ROC curve  \n",
    "# ============================================================\n",
    "import matplotlib.pyplot as plt\n",
    "import seaborn as sns\n",
    "from sklearn.metrics import (confusion_matrix, roc_curve, roc_auc_score, \n",
    "                           precision_score, recall_score, f1_score, classification_report)\n",
    "import torch.nn.functional as F\n",
    "\n",
    "# Enhanced run_epoch to return probabilities (run model only once)\n",
    "def run_epoch_with_probs(loader, train=True):\n",
    "    \"\"\"\n",
    "    Run evaluation/training epoch and return predictions with probabilities.\n",
    "    \n",
    "    Args:\n",
    "        loader (DataLoader): Data loader for evaluation/training.\n",
    "        train (bool): Whether to run in training mode.\n",
    "    \n",
    "    Returns:\n",
    "        tuple: Loss, accuracy, true labels, predictions, and probabilities.\n",
    "    \"\"\"\n",
    "    model.train() if train else model.eval()\n",
    "    loss_sum, preds, labels, all_logits = 0, [], [], []\n",
    "    loop = tqdm(loader, leave=False)\n",
    "    with torch.set_grad_enabled(train):\n",
    "        for batch in loop:\n",
    "            batch = {k:v.to(DEVICE) for k,v in batch.items()}\n",
    "            outputs = model(**batch)\n",
    "            loss = outputs.loss\n",
    "            logits = outputs.logits.detach().cpu()\n",
    "            loss_sum += loss.item()*len(batch[\"labels\"])\n",
    "            preds += logits.argmax(1).tolist()\n",
    "            labels += batch[\"labels\"].cpu().tolist()\n",
    "            all_logits.append(logits)\n",
    "            if train:\n",
    "                loss.backward()\n",
    "                torch.nn.utils.clip_grad_norm_(model.parameters(), 1.0)\n",
    "                optimizer.step(); scheduler.step(); optimizer.zero_grad()\n",
    "    \n",
    "    # Convert logits to probabilities for positive class\n",
    "    all_logits = torch.cat(all_logits, dim=0)\n",
    "    probs = F.softmax(all_logits, dim=1)[:, 1].numpy()\n",
    "    \n",
    "    acc = accuracy_score(labels, preds)\n",
    "    return loss_sum/len(loader.dataset), acc, labels, preds, probs\n",
    "\n",
    "# Run model prediction only once to get both predictions and probabilities\n",
    "_, _, true_labels, pred_labels, pred_probs = run_epoch_with_probs(test_dl, train=False)\n",
    "\n",
    "# Print comprehensive metrics\n",
    "print(\"Accuracy:\", accuracy_score(true_labels, pred_labels))\n",
    "print(\"Precision:\", precision_score(true_labels, pred_labels, pos_label=1))\n",
    "print(\"Recall:\", recall_score(true_labels, pred_labels, pos_label=1))\n",
    "print(\"F1-Score:\", f1_score(true_labels, pred_labels, pos_label=1))\n",
    "print(\"\\nClassification Report:\\n\", classification_report(true_labels, pred_labels, target_names=['Negative', 'Positive']))\n",
    "\n",
    "# Create figure with two subplots\n",
    "fig, (ax1, ax2) = plt.subplots(1, 2, figsize=(15, 5))\n",
    "\n",
    "# 1. Confusion Matrix\n",
    "cm = confusion_matrix(true_labels, pred_labels, labels=[0, 1])\n",
    "sns.heatmap(cm, annot=True, fmt='d', cmap='Blues',\n",
    "            xticklabels=['Negative', 'Positive'], yticklabels=['Negative', 'Positive'], ax=ax1)\n",
    "ax1.set_ylabel('True Label')\n",
    "ax1.set_xlabel('Predicted Label')\n",
    "ax1.set_title(\"Confusion Matrix\")\n",
    "\n",
    "# 2. ROC Curve\n",
    "fpr, tpr, thresholds = roc_curve(true_labels, pred_probs)\n",
    "auc_score = roc_auc_score(true_labels, pred_probs)\n",
    "ax2.plot(fpr, tpr, label=f'ROC Curve (AUC = {auc_score:.4f})')\n",
    "ax2.plot([0, 1], [0, 1], 'k--', label='Random Classifier')\n",
    "ax2.set_xlabel(\"False Positive Rate\")\n",
    "ax2.set_ylabel(\"True Positive Rate\")\n",
    "ax2.set_title(\"ROC Curve\")\n",
    "ax2.legend()\n",
    "ax2.grid(True, alpha=0.3)\n",
    "\n",
    "plt.tight_layout()\n",
    "plt.show()\n",
    "\n",
    "print(f\"\\nAUC-ROC Score: {auc_score:.4f}\")\n"
   ]
  },
  {
   "cell_type": "markdown",
   "metadata": {},
   "source": [
    "**Observation: Bert surpass TF-IDF+LR about 5% on accuracy and f1 score, 0.02 on ROC AUC**"
   ]
  },
  {
   "cell_type": "code",
   "execution_count": 11,
   "metadata": {},
   "outputs": [
    {
     "name": "stdout",
     "output_type": "stream",
     "text": [
      "\n",
      "--- Example False Positives ---\n",
      "★ [2478] False Positive | Reason: heavy use of negation, very long review (truncation)\n",
      "It is a Frank Zappa axiom that \"music journalism is people who can't write interviewing people who can't talk for people who can't read.\" If you ever needed proof that musicians can't talk, this is the film for you. Repeated attempts at profundity stumble over themselves to end up in monosyllabic comments delivered in awestruck voices: \"Wow.\" (Thank you, Idris Muhammed.) This film is pretentious but, while much of the pontificating from Youssou N'Dour and his gang of merry men (and one token woman) grates, the music saves the day.The main idea behind the film (what I take to be the main idea, dredged out of the inarticulate commentary) is interesting. To gather a group of musicians from America and Europe and take them on a journey through the different styles of music that grew up in and ...\n",
      "\n",
      "★ [2517] False Positive | Reason: heavy use of negation\n",
      "\"Sex and the City\" has some great things going for it. The problem is that it's saddled with a number of negatives that really hurt the ultimate rating and review for its' six seasons.The good things about \"SATC\" is that a lot of the conversations ring true to life, the romance stories are interesting, and the characters are fun.The bad things is that few women act like complete whores. These four women have so many partners, even going lesbian in some episodes, that you have no choice but to roll your eyes at the utter absurdity. Men on the show are for the most part depicted as shallow, degenerates, liars, cheats, and buffoons. The foul language these women use is far in excess as to what a normal conversation entails. Why do the writers do these things? Clearly, to be over-the-top and t...\n",
      "\n",
      "★ [2805] False Positive | Reason: heavy use of negation\n",
      "A not bad but also not so great heist film. Kirk Douglas is a recently released from prison safe-cracker who, after turning down an offer from the Mob, decides to pull the job himself. He recruits circus gymnast Giuliano Gemma. Mayhem ensues. Douglas and Gemma soon find themselves pursued by mafia goon Romano Puppo as well as entangled in a really goofy love triangle with Douglas's infinitely patient girlfriend (Florinda Bolkan). Director Michele Lupo keeps the pace moving quickly and there's at least one excellent and creative car chase sequence involving Puppo & Gemma. Though an Italian production, most of the filming appears to have been done in Germany. Douglas is fine, not just slumming it in an Giallo quickie. The striking Bolkan gives a terrific performance. The music is by Ennio Mo...\n",
      "\n",
      "\n",
      "--- Example False Negatives ---\n",
      "☆ [2319] False Negative | Reason: heavy use of negation, excessive punctuation (tone shift)\n",
      "Okay, I know that's cliché. Taken on its surface, this is a bad film- perhaps in a league with \"Plan 9 From Outer Space\". The dialog is suspect (but the Singlish is quite enjoyable...), the plot is not quite believable, Gavin's character overacts excessively. While watching the movie, somethings happen that truly make you wonder... Handsome and Kim making out on a tank, Gwen eating a banana in a bath, just about everything Gavin says and does (\"psssssssssssssssycho!!\"). These things taken separately are perhaps flaws. Taken together, however, they are merely quirks. Watching this movie with an open-mind (especially if you're not familiar with Singaporean culture), and with an open-minded group of friends is guaranteed to deliver a lot of laughs and a memorable time. You can't go into this ...\n",
      "\n",
      "☆ [4857] False Negative | Reason: heavy use of negation\n",
      "After stabbing a retarded boy, the fifteen years old troubled and pessimist Leland P. Fitzgerald (Ryan Gosling) is sent to a juvenile detention. His teacher and aspirant writer Pearl Madison (Don Cheadle) gets close and tries to understand him, first with intention of writing a book, and later becoming his friend. Leland slowly discloses his sad vision of world, showing that he is a sociopath.\"The United States of Leland\" is a depressive and interesting study of a character. The low paced riveting screenplay discloses pieces of the story like a puzzle; there are excellent lines and dialogs; the performances are great, although the twenty-three years old Ryan Gosling does not convince as a fifteen years old teenager; but it seems that a part is missing to complete the puzzle and make \"The U...\n",
      "\n",
      "☆ [3159] False Negative | Reason: heavy use of negation\n",
      "L'OSSESSA, also known as THE TORMENTED or THE SEXORCIST, or the ridiculously titled THE EERIE MIDNIGHT HORROR SHOW, is a forgotten EXORCIST rip-off which contains one of the best horror moments I've ever seen. The scene is when the crucifix comes alive. This great spooky scene is unforgettable and totally effective (great FXs). It's a shame the rest of the movie doesn't maintain the level of creepiness exemplified during that scene.This is one of the most frustrating movies ever. Imagine the producers deciding to to make an EXORCIST copy but while making it, they actually succeed in creating something truly original (a possessed sculpture of crucified man, which is shocking when you think about it) but then completely forgets their original idea in order to make a boring and uninspired EXO...\n",
      "\n"
     ]
    }
   ],
   "source": [
    "# ============================================================\n",
    "# 5. Inspect mistakes\n",
    "# ============================================================\n",
    "test_df = test_df.reset_index(drop=True)\n",
    "test_df[\"pred\"]  = pred_labels\n",
    "test_df[\"is_err\"] = test_df.label != test_df.pred\n",
    "\n",
    "# Randomly sample 3 examples from each error category\n",
    "fp = test_df[(test_df.label==0) & (test_df.pred==1)].sample(n=3, random_state=42)\n",
    "fn = test_df[(test_df.label==1) & (test_df.pred==0)].sample(n=3, random_state=42)\n",
    "\n",
    "def explain(sample):\n",
    "    reasons = []\n",
    "    txt = sample.lower()\n",
    "    if \"not\" in txt or \"n't\" in txt:\n",
    "        reasons.append(\"heavy use of negation\")\n",
    "    if len(txt.split()) > 500:\n",
    "        reasons.append(\"very long review (truncation)\")\n",
    "    if any(w in txt for w in [\"sarcastic\", \"ironic\"]):\n",
    "        reasons.append(\"explicit sarcasm cues\")\n",
    "    if sample.count(\"!\") > 4:\n",
    "        reasons.append(\"excessive punctuation (tone shift)\")\n",
    "    return \", \".join(reasons) or \"subtle sentiment / uncommon phrasing\"\n",
    "\n",
    "print(\"\\n--- Example False Positives ---\")\n",
    "for i,row in fp.iterrows():\n",
    "    print(f\"★ [{i}] False Positive | Reason: {explain(row.review,'fp')}\")\n",
    "    print(row.review[:800].replace('\\n',' ')+\"...\\n\")\n",
    "\n",
    "print(\"\\n--- Example False Negatives ---\")\n",
    "for i,row in fn.iterrows():\n",
    "    print(f\"☆ [{i}] False Negative | Reason: {explain(row.review,'fn')}\")\n",
    "    print(row.review[:800].replace('\\n',' ')+\"...\\n\")"
   ]
  },
  {
   "cell_type": "code",
   "execution_count": 13,
   "metadata": {},
   "outputs": [
    {
     "name": "stdout",
     "output_type": "stream",
     "text": [
      "Full dataset size: 50000\n"
     ]
    },
    {
     "name": "stderr",
     "output_type": "stream",
     "text": [
      "Some weights of DistilBertForSequenceClassification were not initialized from the model checkpoint at distilbert-base-uncased and are newly initialized: ['classifier.bias', 'classifier.weight', 'pre_classifier.bias', 'pre_classifier.weight']\n",
      "You should probably TRAIN this model on a down-stream task to be able to use it for predictions and inference.\n"
     ]
    },
    {
     "name": "stdout",
     "output_type": "stream",
     "text": [
      "\n",
      "Retraining on full dataset for 2 epochs...\n"
     ]
    },
    {
     "name": "stderr",
     "output_type": "stream",
     "text": [
      "                                                   \r"
     ]
    },
    {
     "name": "stdout",
     "output_type": "stream",
     "text": [
      "Full Dataset Epoch 1: train loss 0.232, acc 0.9108\n"
     ]
    },
    {
     "name": "stderr",
     "output_type": "stream",
     "text": [
      "                                                   \r"
     ]
    },
    {
     "name": "stdout",
     "output_type": "stream",
     "text": [
      "Full Dataset Epoch 2: train loss 0.129, acc 0.9603\n",
      "\n",
      "Model & tokenizer saved to ./distilbert_imdb_full_20250615_225839\n"
     ]
    }
   ],
   "source": [
    "# ============================================================\n",
    "# 6. Retrain on the whole dataset, save model + tokenizer with timestamp\n",
    "# ============================================================\n",
    "\n",
    "# Create full dataset from all splits\n",
    "full_df = pd.concat([train_df, val_df, test_df], ignore_index=True)\n",
    "print(f\"Full dataset size: {len(full_df)}\")\n",
    "\n",
    "# Create dataset and dataloader for the full dataset\n",
    "full_ds = IMDbDS(full_df, tokenizer)\n",
    "full_dl = DataLoader(full_ds, batch_size=BATCH_SIZE, shuffle=True)\n",
    "\n",
    "# Create a fresh model for retraining on the whole dataset\n",
    "all_dataset_model = DistilBertForSequenceClassification.from_pretrained(\n",
    "    \"distilbert-base-uncased\", num_labels=2)\n",
    "all_dataset_model.to(DEVICE)\n",
    "\n",
    "# Setup optimizer and scheduler for retraining (2 epochs)\n",
    "RETRAIN_EPOCHS = 2\n",
    "optimizer_full = AdamW(all_dataset_model.parameters(), lr=2e-5)\n",
    "total_steps_full = len(full_dl) * RETRAIN_EPOCHS\n",
    "scheduler_full = get_linear_schedule_with_warmup(\n",
    "    optimizer_full, num_warmup_steps=0, num_training_steps=total_steps_full)\n",
    "\n",
    "def run_epoch_full(loader, model, optimizer, scheduler, train=True):\n",
    "    \"\"\"\n",
    "    Run a training epoch on the full dataset.\n",
    "    \n",
    "    Args:\n",
    "        loader (DataLoader): Data loader for the full dataset.\n",
    "        model: The model to train.\n",
    "        optimizer: The optimizer to use.\n",
    "        scheduler: The learning rate scheduler.\n",
    "        train (bool): Whether to run in training mode.\n",
    "    \n",
    "    Returns:\n",
    "        tuple: Loss and accuracy for the epoch.\n",
    "    \"\"\"\n",
    "    model.train() if train else model.eval()\n",
    "    loss_sum, preds, labels = 0, [], []\n",
    "    loop = tqdm(loader, leave=False)\n",
    "    with torch.set_grad_enabled(train):\n",
    "        for batch in loop:\n",
    "            batch = {k:v.to(DEVICE) for k,v in batch.items()}\n",
    "            outputs = model(**batch)\n",
    "            loss = outputs.loss\n",
    "            logits = outputs.logits.detach().cpu()\n",
    "            loss_sum += loss.item()*len(batch[\"labels\"])\n",
    "            preds += logits.argmax(1).tolist()\n",
    "            labels += batch[\"labels\"].cpu().tolist()\n",
    "            if train:\n",
    "                loss.backward()\n",
    "                torch.nn.utils.clip_grad_norm_(model.parameters(), 1.0)\n",
    "                optimizer.step(); scheduler.step(); optimizer.zero_grad()\n",
    "    acc = accuracy_score(labels, preds)\n",
    "    return loss_sum/len(loader.dataset), acc\n",
    "\n",
    "print(f\"\\nRetraining on full dataset for {RETRAIN_EPOCHS} epochs...\")\n",
    "for epoch in range(1, RETRAIN_EPOCHS+1):\n",
    "    tr_loss, tr_acc = run_epoch_full(full_dl, all_dataset_model, optimizer_full, scheduler_full, train=True)\n",
    "    print(f\"Full Dataset Epoch {epoch}: train loss {tr_loss:.3f}, acc {tr_acc:.4f}\")\n",
    "\n",
    "# Save the retrained model and tokenizer with timestamp\n",
    "stamp = dt.datetime.now().strftime(\"%Y%m%d_%H%M%S\")\n",
    "out_dir = f\"distilbert_imdb_full_{stamp}\"\n",
    "all_dataset_model.save_pretrained(out_dir)\n",
    "tokenizer.save_pretrained(out_dir)\n",
    "print(f\"\\nModel & tokenizer saved to ./{out_dir}\")"
   ]
  }
 ],
 "metadata": {
  "kernelspec": {
   "display_name": "coding-test-9uclmUVG",
   "language": "python",
   "name": "python3"
  },
  "language_info": {
   "codemirror_mode": {
    "name": "ipython",
    "version": 3
   },
   "file_extension": ".py",
   "mimetype": "text/x-python",
   "name": "python",
   "nbconvert_exporter": "python",
   "pygments_lexer": "ipython3",
   "version": "3.12.7"
  }
 },
 "nbformat": 4,
 "nbformat_minor": 2
}
