{
 "cells": [
  {
   "cell_type": "code",
   "execution_count": 1,
   "metadata": {},
   "outputs": [],
   "source": [
    "import pandas as pd\n",
    "import re\n",
    "from bs4 import BeautifulSoup\n",
    "\n",
    "\n",
    "df = pd.read_csv('IMDB Dataset.csv')\n",
    "\n",
    "# When using BERT or other transformer models, most text preprocessing steps like stopword removal, stemming, \n",
    "# or punctuation stripping are unnecessary and can actually hurt performance. \n",
    "# So we only need to clean obvious noise like HTML tags and URLs—the rest should be left as-is for the model to fully understand the context.\n",
    "\n",
    "# ============================================================\n",
    "# Preprocessing pipeline for BERT\n",
    "# ============================================================\n",
    "def preprocessing_pipeline_bert(review: str):\n",
    "    \"\"\"\n",
    "    Clean and preprocess a review string using the full pipeline.\n",
    "\n",
    "    Args:\n",
    "        review (str): The raw review text.\n",
    "    Returns:\n",
    "        str: The cleaned and preprocessed review text.\n",
    "    \"\"\"\n",
    "\n",
    "    # 1. strip HTML\n",
    "    review = BeautifulSoup(review, \"html.parser\").get_text()\n",
    "\n",
    "    # 2. strip URLs\n",
    "    review = re.sub(r'http\\S+|www\\.\\S+', '', review, flags=re.IGNORECASE)\n",
    "\n",
    "    return review\n"
   ]
  },
  {
   "cell_type": "code",
   "execution_count": 3,
   "metadata": {},
   "outputs": [],
   "source": [
    "sample_reviews = df['review'].sample(3, random_state=42)\n",
    "processed_sample = sample_reviews.apply(lambda x: preprocessing_pipeline_bert(x))"
   ]
  },
  {
   "cell_type": "code",
   "execution_count": 7,
   "metadata": {},
   "outputs": [
    {
     "data": {
      "text/html": [
       "<style type=\"text/css\">\n",
       "#T_5a31f_row0_col0, #T_5a31f_row1_col0, #T_5a31f_row2_col0 {\n",
       "  text-align: left;\n",
       "}\n",
       "</style>\n",
       "<table id=\"T_5a31f\">\n",
       "  <thead>\n",
       "    <tr>\n",
       "      <th class=\"blank level0\" >&nbsp;</th>\n",
       "      <th id=\"T_5a31f_level0_col0\" class=\"col_heading level0 col0\" >review</th>\n",
       "    </tr>\n",
       "  </thead>\n",
       "  <tbody>\n",
       "    <tr>\n",
       "      <th id=\"T_5a31f_level0_row0\" class=\"row_heading level0 row0\" >33553</th>\n",
       "      <td id=\"T_5a31f_row0_col0\" class=\"data row0 col0\" >I really liked this Summerslam due to the look of the arena, the curtains and just the look overall was interesting to me for some reason. Anyways, this could have been one of the best Summerslam's ever if the WWF didn't have Lex Luger in the main event against Yokozuna, now for it's time it was ok to have a huge fat man vs a strong man but I'm glad times have changed. It was a terrible main event just like every match Luger is in is terrible. Other matches on the card were Razor Ramon vs Ted Dibiase, Steiner Brothers vs Heavenly Bodies, Shawn Michaels vs Curt Hening, this was the event where Shawn named his big monster of a body guard Diesel, IRS vs 1-2-3 Kid, Bret Hart first takes on Doink then takes on Jerry Lawler and stuff with the Harts and Lawler was always very interesting, then Ludvig Borga destroyed Marty Jannetty, Undertaker took on Giant Gonzalez in another terrible match, The Smoking Gunns and Tatanka took on Bam Bam Bigelow and the Headshrinkers, and Yokozuna defended the world title against Lex Luger this match was boring and it has a terrible ending. However it deserves 8/10</td>\n",
       "    </tr>\n",
       "    <tr>\n",
       "      <th id=\"T_5a31f_level0_row1\" class=\"row_heading level0 row1\" >9427</th>\n",
       "      <td id=\"T_5a31f_row1_col0\" class=\"data row1 col0\" >Not many television shows appeal to quite as many different kinds of fans like Farscape does...I know youngsters and 30/40+ years old;fans both Male and Female in as many different countries as you can think of that just adore this T.V miniseries. It has elements that can be found in almost every other show on T.V, character driven drama that could be from an Australian soap opera; yet in the same episode it has science fact & fiction that would give even the hardiest \"Trekkie\" a run for his money in the brainbender stakes! Wormhole theory, Time Travel in true equational form...Magnificent. It embraces cultures from all over the map as the possibilities are endless having multiple stars and therefore thousands of planets to choose from.With such a broad scope; it would be expected that nothing would be able to keep up the illusion for long, but here is where \"Farscape\" really comes into it's own element...It succeeds where all others have failed, especially the likes of Star Trek (a universe with practically zero Kaos element!) They ran out of ideas pretty quickly + kept rehashing them! Over the course of 4 seasons they manage to keep the audience's attention using good continuity and constant character evolution with multiple threads to every episode with unique personal touches to camera that are specific to certain character groups within the whole. This structure allows for an extremely large area of subject matter as loyalties are forged and broken in many ways on many many issues. I happened to see the pilot (Premiere) in passing and just had to keep tuning in after that to see if Crichton would ever \"Get the girl\", after seeing them all on television I was delighted to see them available on DVD & I have to admit that it was the only thing that kept me sane whilst I had to do a 12 hour night shift and developed chronic insomnia...Farscape was the only thing to get me through those extremely long nights...Do yourself a favour; Watch the pilot and see what I mean...Farscape Comet</td>\n",
       "    </tr>\n",
       "    <tr>\n",
       "      <th id=\"T_5a31f_level0_row2\" class=\"row_heading level0 row2\" >199</th>\n",
       "      <td id=\"T_5a31f_row2_col0\" class=\"data row2 col0\" >The film quickly gets to a major chase scene with ever increasing destruction. The first really bad thing is the guy hijacking Steven Seagal would have been beaten to pulp by Seagal's driving, but that probably would have ended the whole premise for the movie.It seems like they decided to make all kinds of changes in the movie plot, so just plan to enjoy the action, and do not expect a coherent plot. Turn any sense of logic you may have, it will reduce your chance of getting a headache.I does give me some hope that Steven Seagal is trying to move back towards the type of characters he portrayed in his more popular movies.</td>\n",
       "    </tr>\n",
       "  </tbody>\n",
       "</table>\n"
      ],
      "text/plain": [
       "<pandas.io.formats.style.Styler at 0x1a9209f3a70>"
      ]
     },
     "execution_count": 7,
     "metadata": {},
     "output_type": "execute_result"
    }
   ],
   "source": [
    "pd.set_option('display.max_colwidth', None)\n",
    "processed_sample_df = processed_sample.to_frame()  # in case it's a Series\n",
    "processed_sample_df.style.set_properties(**{'text-align': 'left'})"
   ]
  }
 ],
 "metadata": {
  "kernelspec": {
   "display_name": "coding-test-9uclmUVG",
   "language": "python",
   "name": "python3"
  },
  "language_info": {
   "codemirror_mode": {
    "name": "ipython",
    "version": 3
   },
   "file_extension": ".py",
   "mimetype": "text/x-python",
   "name": "python",
   "nbconvert_exporter": "python",
   "pygments_lexer": "ipython3",
   "version": "3.12.7"
  }
 },
 "nbformat": 4,
 "nbformat_minor": 2
}
